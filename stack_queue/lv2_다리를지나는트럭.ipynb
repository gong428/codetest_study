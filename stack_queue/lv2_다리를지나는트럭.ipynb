{
 "cells": [
  {
   "cell_type": "markdown",
   "metadata": {},
   "source": [
    "트럭 여러 대가 강을 가로지르는 일차선 다리를 정해진 순으로 건너려 합니다. 모든 트럭이 다리를 건너려면 최소 몇 초가 걸리는지 알아내야 합니다. 다리에는 트럭이 최대 bridge_length대 올라갈 수 있으며, 다리는 weight 이하까지의 무게를 견딜 수 있습니다. 단, 다리에 완전히 오르지 않은 트럭의 무게는 무시합니다.\n",
    "\n"
   ]
  },
  {
   "cell_type": "code",
   "execution_count": null,
   "metadata": {},
   "outputs": [],
   "source": [
    "## 다리를 건너는 트럭 리스트는 큐로 \n",
    "# 리스트에 추가할 때 조건문(리스트 안에 값 + 들어갈 값<weight 이면 추가)\n",
    "# 나가는 기준 설정하기\n",
    "\n",
    "# 다리를 건너는 시간 = 큐 리스트 올라오고 lenght 길이만큼 지나고 \n",
    "# 시간 측정 방법 설정하기\n",
    "# 1. 반복마다 큐 리스트에 인덱스 값 1씩 추가하기 (enumerate로 list 만들어서) \n",
    "# 2. "
   ]
  },
  {
   "cell_type": "code",
   "execution_count": null,
   "metadata": {},
   "outputs": [],
   "source": [
    "from collections import deque\n",
    "def solution(bridge_length, weight, truck_weights):\n",
    "    bridge = deque()\n",
    "    truck_queue = deque(truck_weights)\n",
    "        \n",
    "    current_time = 0\n",
    "    current_bridge_weights = 0\n",
    "\n",
    "    while truck_queue or bridge:\n",
    "        current_time += 1\n",
    "\n",
    "        if  bridge and current_time - bridge[0][1]>=bridge_length:\n",
    "            current_bridge_weights -= bridge[0][0]\n",
    "            bridge.popleft()\n",
    "\n",
    "        if truck_queue and current_bridge_weights + truck_queue[0] <= weight:\n",
    "            current_bridge_weights += truck_queue[0]\n",
    "            bridge.append((truck_queue.popleft(),current_time))\n",
    "        \n",
    "    return current_time"
   ]
  },
  {
   "cell_type": "code",
   "execution_count": null,
   "metadata": {},
   "outputs": [],
   "source": []
  },
  {
   "cell_type": "code",
   "execution_count": 85,
   "metadata": {},
   "outputs": [
    {
     "name": "stdout",
     "output_type": "stream",
     "text": [
      "0 : deque([])\n",
      "1 : deque([(7, 1)])\n",
      "2 : deque([(7, 1)])\n",
      "3 : deque([(4, 3)])\n",
      "4 : deque([(4, 3), (5, 4)])\n",
      "5 : deque([(5, 4)])\n",
      "6 : deque([(6, 6)])\n",
      "7 : deque([(6, 6)])\n",
      "8\n"
     ]
    },
    {
     "data": {
      "text/plain": [
       "8"
      ]
     },
     "execution_count": 85,
     "metadata": {},
     "output_type": "execute_result"
    }
   ],
   "source": [
    "bridge_length = 2\n",
    "weight = 10\n",
    "truck_weights = [7,4,5,6]\n",
    "\n",
    "solution(bridge_length,weight,truck_weights)"
   ]
  },
  {
   "cell_type": "code",
   "execution_count": 61,
   "metadata": {},
   "outputs": [],
   "source": [
    "bridge_length = 2\n",
    "weight = 10\n",
    "truck_weights = [7,4,5,6]\n",
    "\n",
    "bridge = deque()\n",
    "\n",
    "truck_queue = deque(truck_weights)\n",
    "\n",
    "cuurent_time = 0\n",
    "current_bridge_weights = 0\n",
    "weight = 10\n",
    "\n"
   ]
  },
  {
   "cell_type": "code",
   "execution_count": 62,
   "metadata": {},
   "outputs": [
    {
     "data": {
      "text/plain": [
       "7"
      ]
     },
     "execution_count": 62,
     "metadata": {},
     "output_type": "execute_result"
    }
   ],
   "source": [
    "truck_queue[0]"
   ]
  },
  {
   "cell_type": "code",
   "execution_count": null,
   "metadata": {},
   "outputs": [
    {
     "name": "stdout",
     "output_type": "stream",
     "text": [
      "8\n"
     ]
    }
   ],
   "source": [
    "\n",
    "while truck_queue:\n",
    "    print(bridge)\n",
    "    cuurent_time += 1\n",
    "\n",
    "    if  bridge and cuurent_time - bridge[0][1]>=bridge_length:\n",
    "        current_bridge_weights -= bridge[0][0]\n",
    "        bridge.popleft()\n",
    "\n",
    "    if current_bridge_weights + truck_queue[0] <= weight:\n",
    "        current_bridge_weights += truck_queue[0]\n",
    "        bridge.append((truck_queue.popleft(),cuurent_time))\n",
    "cuurent_time +=1\n",
    "print(cuurent_time)"
   ]
  },
  {
   "cell_type": "code",
   "execution_count": null,
   "metadata": {},
   "outputs": [],
   "source": [
    "### gpt 풀이\n",
    "def solution(bridge_length, weight, truck_weights):\n",
    "    # 다리 상태를 나타내는 큐 (현재 다리를 건너고 있는 트럭들의 무게 및 위치 정보)\n",
    "    bridge = deque([0] * bridge_length)  # 초기에는 다리가 비어 있음\n",
    "    truck_weights = deque(truck_weights)  # 대기 트럭\n",
    "    current_weight = 0  # 현재 다리 위의 트럭 무게 합\n",
    "    time = 0  # 경과 시간\n",
    "\n",
    "    while bridge:\n",
    "        time += 1  # 시간 증가\n",
    "        # 다리의 맨 앞 트럭이 빠져나옴\n",
    "        outgoing_truck = bridge.popleft()\n",
    "        current_weight -= outgoing_truck\n",
    "\n",
    "        # 대기 트럭에서 새로운 트럭을 다리에 올림\n",
    "        if truck_weights:\n",
    "            # 새로운 트럭이 다리에 올라갈 수 있는 경우\n",
    "            if current_weight + truck_weights[0] <= weight:\n",
    "                incoming_truck = truck_weights.popleft()\n",
    "                bridge.append(incoming_truck)\n",
    "                current_weight += incoming_truck\n",
    "            else:\n",
    "                # 무게 초과로 올라갈 수 없는 경우, 빈 공간 추가\n",
    "                bridge.append(0)\n",
    "\n",
    "    return time"
   ]
  }
 ],
 "metadata": {
  "kernelspec": {
   "display_name": "gumi_env310",
   "language": "python",
   "name": "python3"
  },
  "language_info": {
   "codemirror_mode": {
    "name": "ipython",
    "version": 3
   },
   "file_extension": ".py",
   "mimetype": "text/x-python",
   "name": "python",
   "nbconvert_exporter": "python",
   "pygments_lexer": "ipython3",
   "version": "3.10.14"
  }
 },
 "nbformat": 4,
 "nbformat_minor": 2
}

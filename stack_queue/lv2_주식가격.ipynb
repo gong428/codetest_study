{
 "cells": [
  {
   "cell_type": "markdown",
   "metadata": {},
   "source": [
    "### 문제 설명\n",
    " 초 단위로 기록된 주식가격이 담긴 배열 prices가 매개변수로 주어질 때, 가격이 떨어지지 않은 기간은 몇 초인지를 return 하도록 solution 함수를 완성하세요.\n",
    "\n",
    "### 제한사항\n",
    " prices의 각 가격은 1 이상 10,000 이하인 자연수입니다.\n",
    " prices의 길이는 2 이상 100,000 이하입니다.\n",
    "### 입출력 예\n",
    " - prices\treturn\n",
    " - [1, 2, 3, 2, 3]\t[4, 3, 1, 1, 0]\n",
    "### 입출력 예 설명\n",
    "- 1초 시점의 ₩1은 끝까지 가격이 떨어지지 않았습니다.\n",
    "- 2초 시점의 ₩2은 끝까지 가격이 떨어지지 않았습니다.\n",
    "- 3초 시점의 ₩3은 1초뒤에 가격이 떨어집니다. 따라서 1초간 가격이 떨어지지 않은 것으로 봅니다.\n",
    "- 4초 시점의 ₩2은 1초간 가격이 떨어지지 않았습니다.\n",
    "- 5초 시점의 ₩3은 0초간 가격이 떨어지지 않았습니다.\n",
    "- ※ 공지 - 2019년 2월 28일 지문이 리뉴얼되었습니다."
   ]
  },
  {
   "cell_type": "code",
   "execution_count": null,
   "metadata": {},
   "outputs": [],
   "source": [
    "def solution(prices):\n",
    "    answer = [0]*len(prices)\n",
    "    stack=[]\n",
    "    for idx,price in enumerate(prices,start=0):\n",
    "        while stack and price<prices[stack[-1]]:\n",
    "            top = stack.pop()\n",
    "            answer[top] = idx-top\n",
    "        \n",
    "\n",
    "        stack.append(idx)\n",
    "    while stack:\n",
    "            top = stack.pop()\n",
    "            answer[top] = len(prices) - 1 - top\n",
    "    return answer"
   ]
  },
  {
   "cell_type": "code",
   "execution_count": 96,
   "metadata": {},
   "outputs": [],
   "source": [
    "prices = [1, 2, 3, 2, 3]\n",
    "stack = []\n"
   ]
  },
  {
   "cell_type": "code",
   "execution_count": 97,
   "metadata": {},
   "outputs": [],
   "source": [
    "answer = [0]*len(prices)\n",
    "for idx,price in enumerate(prices,start=0):\n",
    "    while stack and price<prices[stack[-1]]:\n",
    "        top = stack.pop()\n",
    "        answer[top] = idx-top\n",
    "    \n",
    "\n",
    "    stack.append(idx)\n",
    "while stack:\n",
    "        top = stack.pop()\n",
    "        answer[top] = len(prices) - 1 - top"
   ]
  },
  {
   "cell_type": "code",
   "execution_count": 98,
   "metadata": {},
   "outputs": [
    {
     "data": {
      "text/plain": [
       "[4, 3, 1, 1, 0]"
      ]
     },
     "execution_count": 98,
     "metadata": {},
     "output_type": "execute_result"
    }
   ],
   "source": [
    "answer"
   ]
  },
  {
   "cell_type": "code",
   "execution_count": 93,
   "metadata": {},
   "outputs": [
    {
     "data": {
      "text/plain": [
       "[0, 0, 0, 0, 0]"
      ]
     },
     "execution_count": 93,
     "metadata": {},
     "output_type": "execute_result"
    }
   ],
   "source": [
    "answer=[]\n",
    "[answer.append(0) for i in range(len(prices))]\n",
    "answer"
   ]
  },
  {
   "cell_type": "code",
   "execution_count": 87,
   "metadata": {},
   "outputs": [
    {
     "data": {
      "text/plain": [
       "(1, 2)"
      ]
     },
     "execution_count": 87,
     "metadata": {},
     "output_type": "execute_result"
    }
   ],
   "source": [
    "last=prices_list.pop()\n",
    "last"
   ]
  },
  {
   "cell_type": "code",
   "execution_count": 88,
   "metadata": {},
   "outputs": [
    {
     "data": {
      "text/plain": [
       "[4, 3, 1, 1, 0]"
      ]
     },
     "execution_count": 88,
     "metadata": {},
     "output_type": "execute_result"
    }
   ],
   "source": [
    "\n",
    "for i,v in prices_list:\n",
    "    if v>last[1] or answer[i]==0:# 팝한 값이 리스트 값보다 크고 저장한 값은 팝한 값보다 리스트 값이 크면 수정\n",
    "        answer[i] = last[0] - i\n",
    "answer\n"
   ]
  },
  {
   "cell_type": "code",
   "execution_count": null,
   "metadata": {},
   "outputs": [],
   "source": []
  }
 ],
 "metadata": {
  "kernelspec": {
   "display_name": "gumi_env310",
   "language": "python",
   "name": "python3"
  },
  "language_info": {
   "codemirror_mode": {
    "name": "ipython",
    "version": 3
   },
   "file_extension": ".py",
   "mimetype": "text/x-python",
   "name": "python",
   "nbconvert_exporter": "python",
   "pygments_lexer": "ipython3",
   "version": "undefined.undefined.undefined"
  }
 },
 "nbformat": 4,
 "nbformat_minor": 2
}

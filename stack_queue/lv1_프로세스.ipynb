{
 "cells": [
  {
   "cell_type": "markdown",
   "metadata": {},
   "source": [
    "문제 설명\n",
    "운영체제의 역할 중 하나는 컴퓨터 시스템의 자원을 효율적으로 관리하는 것입니다. 이 문제에서는 운영체제가 다음 규칙에 따라 프로세스를 관리할 경우 특정 프로세스가 몇 번째로 실행되는지 알아내면 됩니다.\n",
    "\n",
    "1. 실행 대기 큐(Queue)에서 대기중인 프로세스 하나를 꺼냅니다.\n",
    "2. 큐에 대기중인 프로세스 중 우선순위가 더 높은 프로세스가 있다면 방금 꺼낸 프로세스를 다시 큐에 넣습니다.\n",
    "3. 만약 그런 프로세스가 없다면 방금 꺼낸 프로세스를 실행합니다.\n",
    "  3.1 한 번 실행한 프로세스는 다시 큐에 넣지 않고 그대로 종료됩니다.\n",
    "예를 들어 프로세스 4개 [A, B, C, D]가 순서대로 실행 대기 큐에 들어있고, 우선순위가 [2, 1, 3, 2]라면 [C, D, A, B] 순으로 실행하게 됩니다.\n",
    "\n",
    "현재 실행 대기 큐(Queue)에 있는 프로세스의 중요도가 순서대로 담긴 배열 priorities와, 몇 번째로 실행되는지 알고싶은 프로세스의 위치를 알려주는 location이 매개변수로 주어질 때, 해당 프로세스가 몇 번째로 실행되는지 return 하도록 solution 함수를 작성해주세요."
   ]
  },
  {
   "cell_type": "code",
   "execution_count": null,
   "metadata": {},
   "outputs": [],
   "source": [
    "from collections import deque\n",
    "def solution(priorities, location):\n",
    "    answer=[]\n",
    "    queue = deque(enumerate(priorities))\n",
    "    while queue:\n",
    "        process = queue.popleft()\n",
    "        if all([process[1]>=p[1] for p in queue]):\n",
    "            answer.append(process[0])\n",
    "        else:\n",
    "            queue.append(process)\n",
    "    for idx,value in enumerate(answer):\n",
    "        if value == location:\n",
    "            result = idx+1\n",
    "    \n",
    "    return result"
   ]
  },
  {
   "cell_type": "code",
   "execution_count": 36,
   "metadata": {},
   "outputs": [
    {
     "name": "stdout",
     "output_type": "stream",
     "text": [
      "deque([(0, 2), (1, 1), (2, 3), (3, 2)])\n",
      "[2, 3, 0, 1]\n",
      "deque([])\n"
     ]
    }
   ],
   "source": [
    "priorities = [2, 1, 3, 2]\n",
    "queue = deque(enumerate(priorities))\n",
    "answer = []\n",
    "print(queue)\n",
    "while queue:\n",
    "    process = queue.popleft()\n",
    "    if all([process[1]>=p[1] for p in queue]):\n",
    "        answer.append(process[0])\n",
    "    else:\n",
    "        queue.append(process)\n",
    "print(answer)\n",
    "print(queue)"
   ]
  },
  {
   "cell_type": "code",
   "execution_count": 40,
   "metadata": {},
   "outputs": [
    {
     "data": {
      "text/plain": [
       "1"
      ]
     },
     "execution_count": 40,
     "metadata": {},
     "output_type": "execute_result"
    }
   ],
   "source": [
    "priorities = [2, 1, 3, 2]\n",
    "location = 2\n",
    "solution(priorities,location)"
   ]
  },
  {
   "cell_type": "code",
   "execution_count": null,
   "metadata": {},
   "outputs": [],
   "source": [
    "### gpt 풀이\n",
    "\n",
    "from collections import deque\n",
    "def solution(priorities, location):\n",
    "    answer=[]\n",
    "    queue = deque(enumerate(priorities))\n",
    "    execution_order = 0\n",
    "    while queue:\n",
    "        process = queue.popleft()\n",
    "        if any([process[1]<p[1] for p in queue]):\n",
    "            queue.append(process)\n",
    "        else:\n",
    "            execution_order +=1\n",
    "            if process[0] == location:\n",
    "                return execution_order\n",
    "    "
   ]
  }
 ],
 "metadata": {
  "kernelspec": {
   "display_name": "gumi_env310",
   "language": "python",
   "name": "python3"
  },
  "language_info": {
   "codemirror_mode": {
    "name": "ipython",
    "version": 3
   },
   "file_extension": ".py",
   "mimetype": "text/x-python",
   "name": "python",
   "nbconvert_exporter": "python",
   "pygments_lexer": "ipython3",
   "version": "3.10.14"
  }
 },
 "nbformat": 4,
 "nbformat_minor": 2
}
